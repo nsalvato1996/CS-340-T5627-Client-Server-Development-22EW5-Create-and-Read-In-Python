{
 "cells": [
  {
   "cell_type": "code",
   "execution_count": 5,
   "metadata": {},
   "outputs": [],
   "source": [
    "from pymongo import MongoClient\n",
    "from bson.objectid import ObjectId\n",
    "\n",
    "class AnimalShelter(object):\n",
    "    \"\"\" CRUD operations for Animal collection in MongoDB \"\"\"\n",
    "\n",
    "    def __init__(self):\n",
    "        # Initializing the MongoClient. This helps to \n",
    "        # access the MongoDB databases and collections. \n",
    "        self.client = MongoClient('mongodb://%s:%s@localhost:47499' % (\"aacuser\", \"Password\" ))\n",
    "        # where xxxxx is your unique port number\n",
    "        self.database = self.client['project']\n",
    "\n",
    "# Complete this create method to implement the C in CRUD.\n",
    "    def create(self, data):\n",
    "        if data is not None:\n",
    "            insert = self.database.animals.insert(data)  # data should be dictionary     \n",
    "            if insert!=0:\n",
    "                return True\n",
    "            else:\n",
    "                return False        \n",
    "        else:\n",
    "            raise Exception(\"Nothing to save, because data parameter is empty\")\n",
    "\n",
    "# Create method to implement the R in CRUD. \n",
    "    def read(self,criteria=None):\n",
    "\n",
    "        # criteria is not None then this find will return all rows which matches the criteria\n",
    "        if criteria:\n",
    "            # {'_id':False} just omits the unique ID of each row        \n",
    "            \n",
    "            data = self.database.animals.find(criteria,{\"_id\":False})\n",
    "        else:\n",
    "        #if there is no search criteria then all the rows will be return  \n",
    "            data = self.database.animals.find( {} , {\"_id\":False})\n",
    "\n",
    "        return data"
   ]
  },
  {
   "cell_type": "code",
   "execution_count": 8,
   "metadata": {},
   "outputs": [
    {
     "name": "stdout",
     "output_type": "stream",
     "text": [
      "{'name': 'test2', 'type': 'dogTest'}\n",
      "{'name': 'test2', 'type': 'dogTest'}\n",
      "{'name': 'test2', 'type': 'dogTest'}\n",
      "{'name': 'test2', 'type': 'dogTest'}\n"
     ]
    }
   ],
   "source": [
    "from AnimalShelter import AnimalShelter\n",
    "\n",
    "a = AnimalShelter()\n",
    "animal_data = [\n",
    "    {\n",
    "        \"name\":\"test456\",\n",
    "        \"type\":\"dogTest123123\"\n",
    "    },\n",
    "    {\n",
    "        \"name\":\"test2\",\n",
    "        \"type\":\"cat123\"\n",
    "    },\n",
    "    {\n",
    "        \"name\":\"test4564566\",\n",
    "        \"type\":\"dogTest123123\"\n",
    "    }\n",
    "]\n",
    "\n",
    "for i in animal_data:\n",
    "    a.create(i)\n",
    "\n",
    "dogs = a.read( {\"type\":\"dogTest123123\"}  )\n",
    "for dog in dogs:\n",
    "    print(dog)"
   ]
  },
  {
   "cell_type": "code",
   "execution_count": null,
   "metadata": {},
   "outputs": [],
   "source": []
  }
 ],
 "metadata": {
  "kernelspec": {
   "display_name": "Python 3",
   "language": "python",
   "name": "python3"
  },
  "language_info": {
   "codemirror_mode": {
    "name": "ipython",
    "version": 3
   },
   "file_extension": ".py",
   "mimetype": "text/x-python",
   "name": "python",
   "nbconvert_exporter": "python",
   "pygments_lexer": "ipython3",
   "version": "3.6.9"
  }
 },
 "nbformat": 4,
 "nbformat_minor": 2
}
